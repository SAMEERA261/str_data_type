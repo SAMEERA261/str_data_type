{
 "cells": [
  {
   "cell_type": "markdown",
   "id": "6f25bca8",
   "metadata": {},
   "source": [
    "## Strings\n",
    "\n",
    "* strings are characters or a sequence of characters enclosed in qoutes (single,double and triple-single or triple-double qoutes)\n",
    "\n",
    "* triple qoutes are used as multiline strings ,multiline comments and as doc strings.\n"
   ]
  },
  {
   "cell_type": "markdown",
   "id": "690b2cf6",
   "metadata": {},
   "source": [
    "## creating strings"
   ]
  },
  {
   "cell_type": "code",
   "execution_count": 8,
   "id": "48dfcb50",
   "metadata": {},
   "outputs": [
    {
     "name": "stdout",
     "output_type": "stream",
     "text": [
      "this is a string ,enclosed in single qoutes\n",
      "this is a string ,enclosed in double qoutes\n",
      "this is a multi-string ,enclosed in triple single qoutes\n"
     ]
    },
    {
     "data": {
      "text/plain": [
       "'this is a multi- line comment ,created by using triple double qoutes'"
      ]
     },
     "execution_count": 8,
     "metadata": {},
     "output_type": "execute_result"
    }
   ],
   "source": [
    "s1 = 'this is a string ,enclosed in single qoutes'\n",
    "s2 = \"this is a string ,enclosed in double qoutes\"\n",
    "s3 = '''this is a multi-string ,enclosed in triple single qoutes'''\n",
    "print(s1,s2,s3,sep='\\n')\n",
    "\"\"\"this is a multi- line comment ,created by using triple double qoutes\"\"\""
   ]
  },
  {
   "cell_type": "code",
   "execution_count": 29,
   "id": "59d8de8d",
   "metadata": {},
   "outputs": [],
   "source": [
    "a = \"this cup belong's to INDIA\"\n",
    "a = 'this cup belong\\'s to INDIA'"
   ]
  },
  {
   "cell_type": "code",
   "execution_count": 26,
   "id": "b39310a2",
   "metadata": {},
   "outputs": [
    {
     "name": "stdout",
     "output_type": "stream",
     "text": [
      "a\n",
      "b\n",
      "a\tb\n",
      "ab\r",
      "c\n"
     ]
    }
   ],
   "source": [
    "print('a\\nb') #new line #ESCAPE PATH\n",
    "print('a\\tb') #tab/four spaces\n",
    "print('ab\\rc') #moves the curser to start of the line\n",
    "\n"
   ]
  },
  {
   "cell_type": "markdown",
   "id": "16ec5cce",
   "metadata": {},
   "source": [
    "### Raw string  and formatting string \n",
    "\n",
    "* reading everything in raw form \n",
    "\n"
   ]
  },
  {
   "cell_type": "code",
   "execution_count": 92,
   "id": "dec7e332",
   "metadata": {},
   "outputs": [
    {
     "name": "stdout",
     "output_type": "stream",
     "text": [
      "c:\u0007bc\n"
     ]
    }
   ],
   "source": [
    "#raw sring\n",
    "\n",
    "print('c:\\abc')"
   ]
  },
  {
   "cell_type": "code",
   "execution_count": 32,
   "id": "cbd46c33",
   "metadata": {},
   "outputs": [
    {
     "name": "stdout",
     "output_type": "stream",
     "text": [
      "the volume of a cylinder,whose radius is 5 whose height is  7 is 550.0\n",
      "the vol of cylinder ,whose radius and height  is 5 and 7 respectively and the volume uis 550.0\n"
     ]
    }
   ],
   "source": [
    "r,h=5,7\n",
    "\n",
    "vol=(22/7)*(r**2)*h\n",
    "\n",
    "print('the volume of a cylinder,whose radius is',r,'whose height is ',h,'is',vol)\n",
    "\n",
    "print(f'the vol of cylinder ,whose radius and height  is {r} and {h} respectively and the volume uis {vol}')\n"
   ]
  },
  {
   "cell_type": "code",
   "execution_count": 38,
   "id": "e6e44ad6",
   "metadata": {},
   "outputs": [
    {
     "ename": "SyntaxError",
     "evalue": "invalid syntax (299077180.py, line 4)",
     "output_type": "error",
     "traceback": [
      "\u001b[1;36m  Cell \u001b[1;32mIn[38], line 4\u001b[1;36m\u001b[0m\n\u001b[1;33m    v=4/3*pi*r***2 #v=4/3 pi r cube\u001b[0m\n\u001b[1;37m                ^\u001b[0m\n\u001b[1;31mSyntaxError\u001b[0m\u001b[1;31m:\u001b[0m invalid syntax\n"
     ]
    }
   ],
   "source": [
    "d=10\n",
    "r=d/2\n",
    "pi=22/7\n",
    "v=4/3*pi*r***2 #v=4/3 pi r cube\n",
    "\n",
    "print(f 'volume of sphear {v}')\n",
    "\n"
   ]
  },
  {
   "cell_type": "code",
   "execution_count": 42,
   "id": "1c5f45ef",
   "metadata": {},
   "outputs": [
    {
     "name": "stdout",
     "output_type": "stream",
     "text": [
      "a sphere with diameter 10 cms,volume will be 523.8095238095237 cubic cms\n"
     ]
    }
   ],
   "source": [
    "print(f'a sphere with diameter {10} cms,volume will be {(22/7)*(10/2)**3*(4/3)} cubic cms')"
   ]
  },
  {
   "cell_type": "markdown",
   "id": "17f4e435",
   "metadata": {},
   "source": [
    "### strings can be indexed\n",
    "\n",
    "* since strings are sequence of chars,and this seq has an \n",
    "\n",
    "* positive indexing and reverse indexing."
   ]
  },
  {
   "cell_type": "code",
   "execution_count": 44,
   "id": "24818ba3",
   "metadata": {},
   "outputs": [
    {
     "name": "stdout",
     "output_type": "stream",
     "text": [
      "h\n"
     ]
    }
   ],
   "source": [
    "x='python'\n",
    "\n",
    "print (x[3])#accessing h\n",
    "\n"
   ]
  },
  {
   "cell_type": "markdown",
   "id": "2234cd19",
   "metadata": {},
   "source": [
    "* negative indexing\n",
    "\n",
    "backward direction indexing\n"
   ]
  },
  {
   "cell_type": "code",
   "execution_count": 45,
   "id": "7c3a3132",
   "metadata": {},
   "outputs": [
    {
     "name": "stdout",
     "output_type": "stream",
     "text": [
      "h\n"
     ]
    }
   ],
   "source": [
    "print(x[-3])#accessing h using negatrive indexing"
   ]
  },
  {
   "cell_type": "markdown",
   "id": "d5b7fae6",
   "metadata": {},
   "source": [
    "# <u>Positive and negative indexing </u>\n",
    "\n",
    "* in positive indexing ,we move from left to right and the start index is '0' and the end index is 'n-1',where n is len of the string.\n",
    "\n",
    "* in negative indexing ,we move from right to left and the start index is '-1' and the end index is '-n',where n is len of the string.\n"
   ]
  },
  {
   "cell_type": "markdown",
   "id": "2199184f",
   "metadata": {},
   "source": [
    "## Slicing\n",
    "\n",
    "* start position is a and end is n so we start with a and we stop until m as n is not considered\n",
    "\n",
    "*start\n",
    "*end\n",
    "*step sclicing\n",
    "\n",
    "<b>slicing using positive indexing</b>\n",
    "\n",
    "\n"
   ]
  },
  {
   "cell_type": "code",
   "execution_count": 57,
   "id": "9082f863",
   "metadata": {},
   "outputs": [
    {
     "name": "stdout",
     "output_type": "stream",
     "text": [
      "55\n",
      "i am doreamon\n",
      "i am doreamon in my own imagination its g\n",
      "ia oemni yoniaiainisg\n",
      "imoannywigaoi oti\n",
      "i am doreamon in my own imagination its good to imagine\n",
      "doreamon \n"
     ]
    }
   ],
   "source": [
    "x='i am doreamon in my own imagination its good to imagine'\n",
    "\n",
    "print (len(x))\n",
    "\n",
    "print(x[0:13])\n",
    "\n",
    "print(x[0:41])\n",
    "\n",
    "print(x[0:41:2])#step sclicing\n",
    "\n",
    "print(x[0:49:3])#step sclicing\n",
    "\n",
    "print(x[::]) #default value will be 1\n",
    "\n",
    "print(x[5:14])\n",
    "\n"
   ]
  },
  {
   "cell_type": "code",
   "execution_count": 58,
   "id": "e635d517",
   "metadata": {},
   "outputs": [
    {
     "name": "stdout",
     "output_type": "stream",
     "text": [
      "python\n",
      "nohtyp\n"
     ]
    }
   ],
   "source": [
    "x='python'\n",
    "\n",
    "print(x)\n",
    "\n",
    "print(x[::-1])"
   ]
  },
  {
   "cell_type": "markdown",
   "id": "dc5431cd",
   "metadata": {},
   "source": [
    "### Reverse indexing and negative indexing"
   ]
  },
  {
   "cell_type": "code",
   "execution_count": 68,
   "id": "6b113e54",
   "metadata": {},
   "outputs": [
    {
     "data": {
      "text/plain": [
       "'nohtyp'"
      ]
     },
     "execution_count": 68,
     "metadata": {},
     "output_type": "execute_result"
    }
   ],
   "source": [
    "x[-1:-7:-1]"
   ]
  },
  {
   "cell_type": "code",
   "execution_count": 69,
   "id": "373791d4",
   "metadata": {},
   "outputs": [
    {
     "data": {
      "text/plain": [
       "'nohty'"
      ]
     },
     "execution_count": 69,
     "metadata": {},
     "output_type": "execute_result"
    }
   ],
   "source": [
    "x[-1:-6:-1]"
   ]
  },
  {
   "cell_type": "code",
   "execution_count": 80,
   "id": "2ec878ca",
   "metadata": {},
   "outputs": [
    {
     "name": "stdout",
     "output_type": "stream",
     "text": [
      "7\n"
     ]
    },
    {
     "data": {
      "text/plain": [
       "'areema'"
      ]
     },
     "execution_count": 80,
     "metadata": {},
     "output_type": "execute_result"
    }
   ],
   "source": [
    "x='sameera'\n",
    "\n",
    "print (len(x))\n",
    "\n",
    "x[5:0:-1]\n",
    "\n",
    "x[6:0:-1]"
   ]
  },
  {
   "cell_type": "code",
   "execution_count": 85,
   "id": "3fdca342",
   "metadata": {},
   "outputs": [
    {
     "data": {
      "text/plain": [
       "''"
      ]
     },
     "execution_count": 85,
     "metadata": {},
     "output_type": "execute_result"
    }
   ],
   "source": [
    "x[0:8:-1]"
   ]
  },
  {
   "cell_type": "markdown",
   "id": "bcc05c77",
   "metadata": {},
   "source": [
    "### concatnation of strings :\n",
    " * adding two strings\n",
    " "
   ]
  },
  {
   "cell_type": "code",
   "execution_count": 90,
   "id": "7236bb7c",
   "metadata": {},
   "outputs": [],
   "source": [
    "a,b= 'sam','eera'\n",
    "\n",
    "c= a+b\n",
    "\n",
    "c"
   ]
  },
  {
   "cell_type": "code",
   "execution_count": 91,
   "id": "e003890f",
   "metadata": {},
   "outputs": [
    {
     "name": "stdout",
     "output_type": "stream",
     "text": [
      "sameerasameerasameerasameerasameerasameerasameerasameerasameera\n"
     ]
    }
   ],
   "source": [
    "c *= 3\n",
    "\n",
    "print (c)"
   ]
  }
 ],
 "metadata": {
  "kernelspec": {
   "display_name": "Python 3 (ipykernel)",
   "language": "python",
   "name": "python3"
  },
  "language_info": {
   "codemirror_mode": {
    "name": "ipython",
    "version": 3
   },
   "file_extension": ".py",
   "mimetype": "text/x-python",
   "name": "python",
   "nbconvert_exporter": "python",
   "pygments_lexer": "ipython3",
   "version": "3.11.5"
  }
 },
 "nbformat": 4,
 "nbformat_minor": 5
}
